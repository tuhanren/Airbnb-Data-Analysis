{
  "nbformat": 4,
  "nbformat_minor": 0,
  "metadata": {
    "colab": {
      "provenance": [],
      "include_colab_link": true
    },
    "kernelspec": {
      "name": "python3",
      "display_name": "Python 3"
    },
    "language_info": {
      "name": "python"
    }
  },
  "cells": [
    {
      "cell_type": "markdown",
      "metadata": {
        "id": "view-in-github",
        "colab_type": "text"
      },
      "source": [
        "<a href=\"https://colab.research.google.com/github/tuhanren/Airbnb-Data-Analysis/blob/main/Final_Project_Group15.ipynb\" target=\"_parent\"><img src=\"https://colab.research.google.com/assets/colab-badge.svg\" alt=\"Open In Colab\"/></a>"
      ]
    },
    {
      "cell_type": "markdown",
      "source": [
        "Project Objective:\n",
        "\n",
        "The goal of this project is to help new Airbnb hosts estimate a reasonable nightly **rental price** for their property. Using historical data from Airbnb listings, we will build predictive models that consider factors such as **location(lat and long)**, **availability**, and **house rules?(50k missing)** to forecast the most suitable rental price for new listings.\n",
        "\n",
        "Dataset: https://www.kaggle.com/datasets/arianazmoudeh/airbnbopendata/dataLinks to an external site.\n",
        "\n",
        "Data dictionary: https://docs.google.com/spreadsheets/d/1b_dvmyhb_kAJhUmv81rAxl4KcXn0Pymz\n",
        "\n",
        "\n",
        "Key Analysis Steps:\n",
        "\n",
        "1. Data Cleaning: Clean the dataset by handling missing values, fixing inconsistencies, and addressing any outliers.\n",
        "2. Descriptive Analytics: Explore the overall distribution of rental prices, relationships between location and price, popular room types and other descriptive insights.\n",
        "3. Diagnostic Analytics: Perform correlation analysis and regression to find which factors (location, room type, availability, etc.) most influence rental prices.\n",
        "4. Predictive Analytics: Build models that predict rental prices based on property characteristics and availability.\n",
        "\n",
        "Practical Use Case:\n",
        "New hosts will be able to input their property’s details, such as location, room type, availability, etc. Our model will then predict a reasonable nightly rental price based on similar listings from the historical data, helping the host price their property competitively.\n",
        "\n",
        "Feasibility:\n",
        "This project is feasible using Python libraries like pandas for data handling, scikit-learn and keras for modeling, and matplotlib for visualization. The final result will not only provide price recommendations for new Airbnb hosts but also reveal market trends and insights."
      ],
      "metadata": {
        "id": "ROdUL17byZe6"
      }
    },
    {
      "cell_type": "code",
      "execution_count": null,
      "metadata": {
        "colab": {
          "base_uri": "https://localhost:8080/"
        },
        "id": "G2s0ReKLyRAb",
        "outputId": "f682312c-a742-419e-a8de-6e391702e82c"
      },
      "outputs": [
        {
          "output_type": "stream",
          "name": "stdout",
          "text": [
            "Mounted at /drive\n",
            "[Errno 2] No such file or directory: '/drive/MyDrive/Colab Notebooks/INF1340/group project/'\n",
            "/content\n"
          ]
        }
      ],
      "source": [
        "# Import the 'drive' module from the 'google.colab' package to enable Google Drive integration.\n",
        "# Then, mount Google Drive to the '/drive' directory within the Colab environment.\n",
        "# The 'force_remount=True' parameter ensures that the Drive is remounted even if it was previously mounted.\n",
        "\n",
        "from google.colab import drive\n",
        "drive.mount('/drive', force_remount=True)\n",
        "\n",
        "# Change the current working directory to the specified folder within Google Drive,\n",
        "# where you can save and load your Colab notebooks or files.\n",
        "%cd '/drive/MyDrive/Colab Notebooks/INF1340/group project/'"
      ]
    },
    {
      "cell_type": "code",
      "source": [
        "import pandas as pd\n",
        "\n",
        "def read_csv(uri: str) -> pd.DataFrame:\n",
        "  \"\"\"Read a CSV file from the given URI and return a pandas DataFrame.\n",
        "\n",
        "  Args:\n",
        "    uri: The URI of the CSV file to read.\n",
        "\n",
        "  Returns:\n",
        "    A pandas DataFrame containing the data from the CSV file.\n",
        "  \"\"\"\n",
        "\n",
        "  try:\n",
        "    return pd.read_csv(uri)\n",
        "  except FileNotFoundError as ex:\n",
        "    print(f'Error! File Not Found! uri={uri}')\n",
        "    raise ex\n",
        "\n",
        "def columns_snakecase(dataFrame: pd.DataFrame) -> None:\n",
        "  \"\"\"\n",
        "  Convert column names in a pandas DataFrame to lowercase and\n",
        "  replace all spaces with underscores e.g. 'My Column Name' becomes 'my_column_name'.\n",
        "\n",
        "  Args:\n",
        "    dataFrame: The pandas DataFrame whose column names need to be converted.\n",
        "  \"\"\"\n",
        "\n",
        "  dataFrame.columns = dataFrame.columns.str.lower().str.replace(' ', '_')\n",
        "\n",
        "def columns_drop(dataFrame: pd.DataFrame, columns: list) -> None:\n",
        "  \"\"\"Drop the specified columns from a pandas DataFrame.\n",
        "\n",
        "  Args:\n",
        "    dataFrame: The pandas DataFrame from which columns need to be dropped.\n",
        "    columns: A list of column names to be dropped from the DataFrame.\n",
        "  \"\"\"\n",
        "  dataFrame.drop(columns, axis=1, inplace=True)\n",
        "\n",
        "def columns_drop_by_null_percentage(\n",
        "    dataFrame: pd.DataFrame,\n",
        "    percentage_threshold: float\n",
        ") -> None:\n",
        "  \"\"\"\"\"\"\n",
        "\n",
        "  columns = dataFrame.columns[dataFrame.isnull().mean() > percentage_threshold]\n",
        "  print(f\"Droping: {columns}\")\n",
        "  columns_drop(dataFrame, columns)\n",
        "\n",
        "def columns_fill_null(dataFrame: pd.DataFrame, columns: list, value: any) -> None:\n",
        "  \"\"\"\n",
        "  Fill missing values in the specified columns of a pandas DataFrame with a given value.\n",
        "\n",
        "  Args:\n",
        "    dataFrame: The pandas DataFrame in which missing values need to be filled.\n",
        "    columns: A list of column names whose missing values need to be filled.\n",
        "    value: The value to fill missing values with.\n",
        "  \"\"\"\n",
        "\n",
        "  for column in columns:\n",
        "    dataFrame[column].fillna(value, inplace=True)\n",
        "\n",
        "def columns_dollarize(dataFrame: pd.DataFrame, columns: list) -> None:\n",
        "  \"\"\"\n",
        "  Convert values in the specified columns of a pandas DataFrame from string to float\n",
        "  by removing dollar signs and commas.\n",
        "\n",
        "  Args:\n",
        "    dataFrame: The pandas DataFrame in which values need to be converted.\n",
        "    columns: A list of column names whose values need to be converted.\n",
        "  \"\"\"\n",
        "\n",
        "  for column in columns:\n",
        "    dataFrame[column] = dataFrame[column].replace('[\\$,]', '', regex=True).astype(float)\n",
        "\n",
        "def rows_drop_by_condition(dataFrame: pd.DataFrame, condition: any) -> None:\n",
        "  \"\"\"\n",
        "  Drop rows from a pandas DataFrame based on a given condition.\n",
        "\n",
        "  Args:\n",
        "    dataFrame: The pandas DataFrame from which rows need to be dropped.\n",
        "    condition: A pandas DataFrame condition to filter rows.\n",
        "  \"\"\"\n",
        "\n",
        "  dataFrame.drop(dataFrame[condition].index, inplace=True)\n",
        "\n",
        "def rows_drop_by_null(dataFrame: pd.DataFrame, columns: list) -> None:\n",
        "  \"\"\"\n",
        "  Drop rows from a pandas DataFrame that contain missing values in the specified columns.\n",
        "\n",
        "  Args:\n",
        "    dataFrame: The pandas DataFrame from which rows need to be dropped.\n",
        "    columns: A list of column names whose rows need to be dropped.\n",
        "  \"\"\"\n",
        "  dataFrame.dropna(subset=columns, inplace=True)\n",
        "\n",
        "def columns_lowercase(dataFrame: pd.DataFrame, columns: list) -> None:\n",
        "  \"\"\"\n",
        "  Convert column names in a pandas DataFrame to lowercase.\n",
        "\n",
        "  Args:\n",
        "    dataFrame: The pandas DataFrame whose columns need to be converted.\n",
        "    columns: A list of column names to be converted to categorical data type.\n",
        "  \"\"\"\n",
        "\n",
        "  for column in columns:\n",
        "    dataFrame[column] = dataFrame[column].str.lower()\n",
        "\n",
        "def columns_categorize(dataFrame: pd.DataFrame, columns: list) -> None:\n",
        "  \"\"\"\n",
        "  Convert the specified columns of a pandas DataFrame to categorical data type.\n",
        "\n",
        "  Args:\n",
        "    dataFrame: The pandas DataFrame whose columns need to be converted.\n",
        "    columns: A list of column names to be converted to categorical data type.\n",
        "  \"\"\"\n",
        "\n",
        "  for column in columns:\n",
        "    dataFrame[column] = dataFrame[column].astype('category')\n",
        "\n",
        "def columns_boolize(dataFrame: pd.DataFrame, columns: list) -> None:\n",
        "  \"\"\"\n",
        "  Convert the specified columns of a pandas DataFrame to boolean data type.\n",
        "\n",
        "  Args:\n",
        "    dataFrame: The pandas DataFrame whose columns need to be converted.\n",
        "    columns: A list of column names to be converted to boolean data type.\n",
        "  \"\"\"\n",
        "\n",
        "  for column in columns:\n",
        "    dataFrame[column] = dataFrame[column].astype(bool)\n",
        "\n",
        "def columns_intize(dataFrame: pd.DataFrame, columns: list) -> None:\n",
        "  \"\"\"\n",
        "  Convert the specified columns of a pandas DataFrame to integer data type.\n",
        "\n",
        "  Args:\n",
        "    dataFrame: The pandas DataFrame whose columns need to be converted.\n",
        "    columns: A list of column names to be converted to integer data type.\n",
        "  \"\"\"\n",
        "\n",
        "  for column in columns:\n",
        "    dataFrame[column] = dataFrame[column].astype(int)\n",
        "\n",
        "def columns_floatize(dataFrame: pd.DataFrame, columns: list) -> None:\n",
        "  \"\"\"\n",
        "  Convert the specified columns of a pandas DataFrame to float data type.\n",
        "  Args:\n",
        "    dataFrame: The pandas DataFrame whose columns need to be converted.\n",
        "    columns: A list of column names to be converted to float data type.\n",
        "  \"\"\"\n",
        "\n",
        "  for column in columns:\n",
        "    dataFrame[column] = dataFrame[column].astype(float)\n",
        "\n",
        "def apply_lambda(dataFrame: pd.DataFrame, columns: list, fn: any) -> None:\n",
        "  \"\"\"\n",
        "  Apply a lambda function to the specified columns of a pandas DataFrame.\n",
        "\n",
        "  Args:\n",
        "    dataFrame: The pandas DataFrame on which the lambda function needs to be applied.\n",
        "    columns: A list of column names whose values need to be transformed.\n",
        "    fn: The lambda\n",
        "  \"\"\"\n",
        "\n",
        "  for column in columns:\n",
        "    dataFrame[column] = dataFrame[column].apply(fn)"
      ],
      "metadata": {
        "id": "2EwCoXcOXCOt"
      },
      "execution_count": 231,
      "outputs": []
    },
    {
      "cell_type": "code",
      "source": [
        "# Call read_csv() to import csv file.\n",
        "df = read_csv('Airbnb_Open_Data.csv')\n",
        "df.head(5)"
      ],
      "metadata": {
        "id": "EE_kOwxnUJn_",
        "colab": {
          "base_uri": "https://localhost:8080/",
          "height": 620
        },
        "outputId": "ab9e83ed-bb9e-42b3-ade8-4e296730ae4c"
      },
      "execution_count": 232,
      "outputs": [
        {
          "output_type": "stream",
          "name": "stderr",
          "text": [
            "<ipython-input-231-be692f67a90f>:14: DtypeWarning: Columns (25) have mixed types. Specify dtype option on import or set low_memory=False.\n",
            "  return pd.read_csv(uri)\n"
          ]
        },
        {
          "output_type": "execute_result",
          "data": {
            "text/plain": [
              "        id                                              NAME      host id  \\\n",
              "0  1001254                Clean & quiet apt home by the park  80014485718   \n",
              "1  1002102                             Skylit Midtown Castle  52335172823   \n",
              "2  1002403               THE VILLAGE OF HARLEM....NEW YORK !  78829239556   \n",
              "3  1002755                                               NaN  85098326012   \n",
              "4  1003689  Entire Apt: Spacious Studio/Loft by central park  92037596077   \n",
              "\n",
              "  host_identity_verified host name neighbourhood group neighbourhood  \\\n",
              "0            unconfirmed  Madaline            Brooklyn    Kensington   \n",
              "1               verified     Jenna           Manhattan       Midtown   \n",
              "2                    NaN     Elise           Manhattan        Harlem   \n",
              "3            unconfirmed     Garry            Brooklyn  Clinton Hill   \n",
              "4               verified    Lyndon           Manhattan   East Harlem   \n",
              "\n",
              "        lat      long        country  ... service fee minimum nights  \\\n",
              "0  40.64749 -73.97237  United States  ...       $193            10.0   \n",
              "1  40.75362 -73.98377  United States  ...        $28            30.0   \n",
              "2  40.80902 -73.94190  United States  ...       $124             3.0   \n",
              "3  40.68514 -73.95976  United States  ...        $74            30.0   \n",
              "4  40.79851 -73.94399  United States  ...        $41            10.0   \n",
              "\n",
              "  number of reviews last review  reviews per month review rate number  \\\n",
              "0               9.0  10/19/2021               0.21                4.0   \n",
              "1              45.0   5/21/2022               0.38                4.0   \n",
              "2               0.0         NaN                NaN                5.0   \n",
              "3             270.0    7/5/2019               4.64                4.0   \n",
              "4               9.0  11/19/2018               0.10                3.0   \n",
              "\n",
              "  calculated host listings count  availability 365  \\\n",
              "0                            6.0             286.0   \n",
              "1                            2.0             228.0   \n",
              "2                            1.0             352.0   \n",
              "3                            1.0             322.0   \n",
              "4                            1.0             289.0   \n",
              "\n",
              "                                         house_rules license  \n",
              "0  Clean up and treat the home the way you'd like...     NaN  \n",
              "1  Pet friendly but please confirm with me if the...     NaN  \n",
              "2  I encourage you to use my kitchen, cooking and...     NaN  \n",
              "3                                                NaN     NaN  \n",
              "4  Please no smoking in the house, porch or on th...     NaN  \n",
              "\n",
              "[5 rows x 26 columns]"
            ],
            "text/html": [
              "\n",
              "  <div id=\"df-5884b5fe-07d4-4d01-9173-4f34015fd4b9\" class=\"colab-df-container\">\n",
              "    <div>\n",
              "<style scoped>\n",
              "    .dataframe tbody tr th:only-of-type {\n",
              "        vertical-align: middle;\n",
              "    }\n",
              "\n",
              "    .dataframe tbody tr th {\n",
              "        vertical-align: top;\n",
              "    }\n",
              "\n",
              "    .dataframe thead th {\n",
              "        text-align: right;\n",
              "    }\n",
              "</style>\n",
              "<table border=\"1\" class=\"dataframe\">\n",
              "  <thead>\n",
              "    <tr style=\"text-align: right;\">\n",
              "      <th></th>\n",
              "      <th>id</th>\n",
              "      <th>NAME</th>\n",
              "      <th>host id</th>\n",
              "      <th>host_identity_verified</th>\n",
              "      <th>host name</th>\n",
              "      <th>neighbourhood group</th>\n",
              "      <th>neighbourhood</th>\n",
              "      <th>lat</th>\n",
              "      <th>long</th>\n",
              "      <th>country</th>\n",
              "      <th>...</th>\n",
              "      <th>service fee</th>\n",
              "      <th>minimum nights</th>\n",
              "      <th>number of reviews</th>\n",
              "      <th>last review</th>\n",
              "      <th>reviews per month</th>\n",
              "      <th>review rate number</th>\n",
              "      <th>calculated host listings count</th>\n",
              "      <th>availability 365</th>\n",
              "      <th>house_rules</th>\n",
              "      <th>license</th>\n",
              "    </tr>\n",
              "  </thead>\n",
              "  <tbody>\n",
              "    <tr>\n",
              "      <th>0</th>\n",
              "      <td>1001254</td>\n",
              "      <td>Clean &amp; quiet apt home by the park</td>\n",
              "      <td>80014485718</td>\n",
              "      <td>unconfirmed</td>\n",
              "      <td>Madaline</td>\n",
              "      <td>Brooklyn</td>\n",
              "      <td>Kensington</td>\n",
              "      <td>40.64749</td>\n",
              "      <td>-73.97237</td>\n",
              "      <td>United States</td>\n",
              "      <td>...</td>\n",
              "      <td>$193</td>\n",
              "      <td>10.0</td>\n",
              "      <td>9.0</td>\n",
              "      <td>10/19/2021</td>\n",
              "      <td>0.21</td>\n",
              "      <td>4.0</td>\n",
              "      <td>6.0</td>\n",
              "      <td>286.0</td>\n",
              "      <td>Clean up and treat the home the way you'd like...</td>\n",
              "      <td>NaN</td>\n",
              "    </tr>\n",
              "    <tr>\n",
              "      <th>1</th>\n",
              "      <td>1002102</td>\n",
              "      <td>Skylit Midtown Castle</td>\n",
              "      <td>52335172823</td>\n",
              "      <td>verified</td>\n",
              "      <td>Jenna</td>\n",
              "      <td>Manhattan</td>\n",
              "      <td>Midtown</td>\n",
              "      <td>40.75362</td>\n",
              "      <td>-73.98377</td>\n",
              "      <td>United States</td>\n",
              "      <td>...</td>\n",
              "      <td>$28</td>\n",
              "      <td>30.0</td>\n",
              "      <td>45.0</td>\n",
              "      <td>5/21/2022</td>\n",
              "      <td>0.38</td>\n",
              "      <td>4.0</td>\n",
              "      <td>2.0</td>\n",
              "      <td>228.0</td>\n",
              "      <td>Pet friendly but please confirm with me if the...</td>\n",
              "      <td>NaN</td>\n",
              "    </tr>\n",
              "    <tr>\n",
              "      <th>2</th>\n",
              "      <td>1002403</td>\n",
              "      <td>THE VILLAGE OF HARLEM....NEW YORK !</td>\n",
              "      <td>78829239556</td>\n",
              "      <td>NaN</td>\n",
              "      <td>Elise</td>\n",
              "      <td>Manhattan</td>\n",
              "      <td>Harlem</td>\n",
              "      <td>40.80902</td>\n",
              "      <td>-73.94190</td>\n",
              "      <td>United States</td>\n",
              "      <td>...</td>\n",
              "      <td>$124</td>\n",
              "      <td>3.0</td>\n",
              "      <td>0.0</td>\n",
              "      <td>NaN</td>\n",
              "      <td>NaN</td>\n",
              "      <td>5.0</td>\n",
              "      <td>1.0</td>\n",
              "      <td>352.0</td>\n",
              "      <td>I encourage you to use my kitchen, cooking and...</td>\n",
              "      <td>NaN</td>\n",
              "    </tr>\n",
              "    <tr>\n",
              "      <th>3</th>\n",
              "      <td>1002755</td>\n",
              "      <td>NaN</td>\n",
              "      <td>85098326012</td>\n",
              "      <td>unconfirmed</td>\n",
              "      <td>Garry</td>\n",
              "      <td>Brooklyn</td>\n",
              "      <td>Clinton Hill</td>\n",
              "      <td>40.68514</td>\n",
              "      <td>-73.95976</td>\n",
              "      <td>United States</td>\n",
              "      <td>...</td>\n",
              "      <td>$74</td>\n",
              "      <td>30.0</td>\n",
              "      <td>270.0</td>\n",
              "      <td>7/5/2019</td>\n",
              "      <td>4.64</td>\n",
              "      <td>4.0</td>\n",
              "      <td>1.0</td>\n",
              "      <td>322.0</td>\n",
              "      <td>NaN</td>\n",
              "      <td>NaN</td>\n",
              "    </tr>\n",
              "    <tr>\n",
              "      <th>4</th>\n",
              "      <td>1003689</td>\n",
              "      <td>Entire Apt: Spacious Studio/Loft by central park</td>\n",
              "      <td>92037596077</td>\n",
              "      <td>verified</td>\n",
              "      <td>Lyndon</td>\n",
              "      <td>Manhattan</td>\n",
              "      <td>East Harlem</td>\n",
              "      <td>40.79851</td>\n",
              "      <td>-73.94399</td>\n",
              "      <td>United States</td>\n",
              "      <td>...</td>\n",
              "      <td>$41</td>\n",
              "      <td>10.0</td>\n",
              "      <td>9.0</td>\n",
              "      <td>11/19/2018</td>\n",
              "      <td>0.10</td>\n",
              "      <td>3.0</td>\n",
              "      <td>1.0</td>\n",
              "      <td>289.0</td>\n",
              "      <td>Please no smoking in the house, porch or on th...</td>\n",
              "      <td>NaN</td>\n",
              "    </tr>\n",
              "  </tbody>\n",
              "</table>\n",
              "<p>5 rows × 26 columns</p>\n",
              "</div>\n",
              "    <div class=\"colab-df-buttons\">\n",
              "\n",
              "  <div class=\"colab-df-container\">\n",
              "    <button class=\"colab-df-convert\" onclick=\"convertToInteractive('df-5884b5fe-07d4-4d01-9173-4f34015fd4b9')\"\n",
              "            title=\"Convert this dataframe to an interactive table.\"\n",
              "            style=\"display:none;\">\n",
              "\n",
              "  <svg xmlns=\"http://www.w3.org/2000/svg\" height=\"24px\" viewBox=\"0 -960 960 960\">\n",
              "    <path d=\"M120-120v-720h720v720H120Zm60-500h600v-160H180v160Zm220 220h160v-160H400v160Zm0 220h160v-160H400v160ZM180-400h160v-160H180v160Zm440 0h160v-160H620v160ZM180-180h160v-160H180v160Zm440 0h160v-160H620v160Z\"/>\n",
              "  </svg>\n",
              "    </button>\n",
              "\n",
              "  <style>\n",
              "    .colab-df-container {\n",
              "      display:flex;\n",
              "      gap: 12px;\n",
              "    }\n",
              "\n",
              "    .colab-df-convert {\n",
              "      background-color: #E8F0FE;\n",
              "      border: none;\n",
              "      border-radius: 50%;\n",
              "      cursor: pointer;\n",
              "      display: none;\n",
              "      fill: #1967D2;\n",
              "      height: 32px;\n",
              "      padding: 0 0 0 0;\n",
              "      width: 32px;\n",
              "    }\n",
              "\n",
              "    .colab-df-convert:hover {\n",
              "      background-color: #E2EBFA;\n",
              "      box-shadow: 0px 1px 2px rgba(60, 64, 67, 0.3), 0px 1px 3px 1px rgba(60, 64, 67, 0.15);\n",
              "      fill: #174EA6;\n",
              "    }\n",
              "\n",
              "    .colab-df-buttons div {\n",
              "      margin-bottom: 4px;\n",
              "    }\n",
              "\n",
              "    [theme=dark] .colab-df-convert {\n",
              "      background-color: #3B4455;\n",
              "      fill: #D2E3FC;\n",
              "    }\n",
              "\n",
              "    [theme=dark] .colab-df-convert:hover {\n",
              "      background-color: #434B5C;\n",
              "      box-shadow: 0px 1px 3px 1px rgba(0, 0, 0, 0.15);\n",
              "      filter: drop-shadow(0px 1px 2px rgba(0, 0, 0, 0.3));\n",
              "      fill: #FFFFFF;\n",
              "    }\n",
              "  </style>\n",
              "\n",
              "    <script>\n",
              "      const buttonEl =\n",
              "        document.querySelector('#df-5884b5fe-07d4-4d01-9173-4f34015fd4b9 button.colab-df-convert');\n",
              "      buttonEl.style.display =\n",
              "        google.colab.kernel.accessAllowed ? 'block' : 'none';\n",
              "\n",
              "      async function convertToInteractive(key) {\n",
              "        const element = document.querySelector('#df-5884b5fe-07d4-4d01-9173-4f34015fd4b9');\n",
              "        const dataTable =\n",
              "          await google.colab.kernel.invokeFunction('convertToInteractive',\n",
              "                                                    [key], {});\n",
              "        if (!dataTable) return;\n",
              "\n",
              "        const docLinkHtml = 'Like what you see? Visit the ' +\n",
              "          '<a target=\"_blank\" href=https://colab.research.google.com/notebooks/data_table.ipynb>data table notebook</a>'\n",
              "          + ' to learn more about interactive tables.';\n",
              "        element.innerHTML = '';\n",
              "        dataTable['output_type'] = 'display_data';\n",
              "        await google.colab.output.renderOutput(dataTable, element);\n",
              "        const docLink = document.createElement('div');\n",
              "        docLink.innerHTML = docLinkHtml;\n",
              "        element.appendChild(docLink);\n",
              "      }\n",
              "    </script>\n",
              "  </div>\n",
              "\n",
              "\n",
              "<div id=\"df-1045774b-cbae-4977-bba9-93274b6d6650\">\n",
              "  <button class=\"colab-df-quickchart\" onclick=\"quickchart('df-1045774b-cbae-4977-bba9-93274b6d6650')\"\n",
              "            title=\"Suggest charts\"\n",
              "            style=\"display:none;\">\n",
              "\n",
              "<svg xmlns=\"http://www.w3.org/2000/svg\" height=\"24px\"viewBox=\"0 0 24 24\"\n",
              "     width=\"24px\">\n",
              "    <g>\n",
              "        <path d=\"M19 3H5c-1.1 0-2 .9-2 2v14c0 1.1.9 2 2 2h14c1.1 0 2-.9 2-2V5c0-1.1-.9-2-2-2zM9 17H7v-7h2v7zm4 0h-2V7h2v10zm4 0h-2v-4h2v4z\"/>\n",
              "    </g>\n",
              "</svg>\n",
              "  </button>\n",
              "\n",
              "<style>\n",
              "  .colab-df-quickchart {\n",
              "      --bg-color: #E8F0FE;\n",
              "      --fill-color: #1967D2;\n",
              "      --hover-bg-color: #E2EBFA;\n",
              "      --hover-fill-color: #174EA6;\n",
              "      --disabled-fill-color: #AAA;\n",
              "      --disabled-bg-color: #DDD;\n",
              "  }\n",
              "\n",
              "  [theme=dark] .colab-df-quickchart {\n",
              "      --bg-color: #3B4455;\n",
              "      --fill-color: #D2E3FC;\n",
              "      --hover-bg-color: #434B5C;\n",
              "      --hover-fill-color: #FFFFFF;\n",
              "      --disabled-bg-color: #3B4455;\n",
              "      --disabled-fill-color: #666;\n",
              "  }\n",
              "\n",
              "  .colab-df-quickchart {\n",
              "    background-color: var(--bg-color);\n",
              "    border: none;\n",
              "    border-radius: 50%;\n",
              "    cursor: pointer;\n",
              "    display: none;\n",
              "    fill: var(--fill-color);\n",
              "    height: 32px;\n",
              "    padding: 0;\n",
              "    width: 32px;\n",
              "  }\n",
              "\n",
              "  .colab-df-quickchart:hover {\n",
              "    background-color: var(--hover-bg-color);\n",
              "    box-shadow: 0 1px 2px rgba(60, 64, 67, 0.3), 0 1px 3px 1px rgba(60, 64, 67, 0.15);\n",
              "    fill: var(--button-hover-fill-color);\n",
              "  }\n",
              "\n",
              "  .colab-df-quickchart-complete:disabled,\n",
              "  .colab-df-quickchart-complete:disabled:hover {\n",
              "    background-color: var(--disabled-bg-color);\n",
              "    fill: var(--disabled-fill-color);\n",
              "    box-shadow: none;\n",
              "  }\n",
              "\n",
              "  .colab-df-spinner {\n",
              "    border: 2px solid var(--fill-color);\n",
              "    border-color: transparent;\n",
              "    border-bottom-color: var(--fill-color);\n",
              "    animation:\n",
              "      spin 1s steps(1) infinite;\n",
              "  }\n",
              "\n",
              "  @keyframes spin {\n",
              "    0% {\n",
              "      border-color: transparent;\n",
              "      border-bottom-color: var(--fill-color);\n",
              "      border-left-color: var(--fill-color);\n",
              "    }\n",
              "    20% {\n",
              "      border-color: transparent;\n",
              "      border-left-color: var(--fill-color);\n",
              "      border-top-color: var(--fill-color);\n",
              "    }\n",
              "    30% {\n",
              "      border-color: transparent;\n",
              "      border-left-color: var(--fill-color);\n",
              "      border-top-color: var(--fill-color);\n",
              "      border-right-color: var(--fill-color);\n",
              "    }\n",
              "    40% {\n",
              "      border-color: transparent;\n",
              "      border-right-color: var(--fill-color);\n",
              "      border-top-color: var(--fill-color);\n",
              "    }\n",
              "    60% {\n",
              "      border-color: transparent;\n",
              "      border-right-color: var(--fill-color);\n",
              "    }\n",
              "    80% {\n",
              "      border-color: transparent;\n",
              "      border-right-color: var(--fill-color);\n",
              "      border-bottom-color: var(--fill-color);\n",
              "    }\n",
              "    90% {\n",
              "      border-color: transparent;\n",
              "      border-bottom-color: var(--fill-color);\n",
              "    }\n",
              "  }\n",
              "</style>\n",
              "\n",
              "  <script>\n",
              "    async function quickchart(key) {\n",
              "      const quickchartButtonEl =\n",
              "        document.querySelector('#' + key + ' button');\n",
              "      quickchartButtonEl.disabled = true;  // To prevent multiple clicks.\n",
              "      quickchartButtonEl.classList.add('colab-df-spinner');\n",
              "      try {\n",
              "        const charts = await google.colab.kernel.invokeFunction(\n",
              "            'suggestCharts', [key], {});\n",
              "      } catch (error) {\n",
              "        console.error('Error during call to suggestCharts:', error);\n",
              "      }\n",
              "      quickchartButtonEl.classList.remove('colab-df-spinner');\n",
              "      quickchartButtonEl.classList.add('colab-df-quickchart-complete');\n",
              "    }\n",
              "    (() => {\n",
              "      let quickchartButtonEl =\n",
              "        document.querySelector('#df-1045774b-cbae-4977-bba9-93274b6d6650 button');\n",
              "      quickchartButtonEl.style.display =\n",
              "        google.colab.kernel.accessAllowed ? 'block' : 'none';\n",
              "    })();\n",
              "  </script>\n",
              "</div>\n",
              "\n",
              "    </div>\n",
              "  </div>\n"
            ],
            "application/vnd.google.colaboratory.intrinsic+json": {
              "type": "dataframe",
              "variable_name": "df"
            }
          },
          "metadata": {},
          "execution_count": 232
        }
      ]
    },
    {
      "cell_type": "markdown",
      "source": [
        "Rename all columns, to lower."
      ],
      "metadata": {
        "id": "Eg1TraNBWcIT"
      }
    },
    {
      "cell_type": "code",
      "source": [
        "columns_snakecase(df)\n",
        "df.columns"
      ],
      "metadata": {
        "id": "wWrzH4UuUJdV",
        "colab": {
          "base_uri": "https://localhost:8080/"
        },
        "outputId": "08d8892b-17eb-43f5-a8f5-0d6504d57fdc"
      },
      "execution_count": 233,
      "outputs": [
        {
          "output_type": "execute_result",
          "data": {
            "text/plain": [
              "Index(['id', 'name', 'host_id', 'host_identity_verified', 'host_name',\n",
              "       'neighbourhood_group', 'neighbourhood', 'lat', 'long', 'country',\n",
              "       'country_code', 'instant_bookable', 'cancellation_policy', 'room_type',\n",
              "       'construction_year', 'price', 'service_fee', 'minimum_nights',\n",
              "       'number_of_reviews', 'last_review', 'reviews_per_month',\n",
              "       'review_rate_number', 'calculated_host_listings_count',\n",
              "       'availability_365', 'house_rules', 'license'],\n",
              "      dtype='object')"
            ]
          },
          "metadata": {},
          "execution_count": 233
        }
      ]
    },
    {
      "cell_type": "markdown",
      "source": [
        "Drop high missing rate columns (15%)"
      ],
      "metadata": {
        "id": "hszb9iluczZU"
      }
    },
    {
      "cell_type": "code",
      "source": [
        "columns_drop_by_null_percentage(df, 0.15)"
      ],
      "metadata": {
        "colab": {
          "base_uri": "https://localhost:8080/"
        },
        "id": "1TUqlld8cnMl",
        "outputId": "eb73bc2e-c538-4bec-b714-5901b242e00b"
      },
      "execution_count": 234,
      "outputs": [
        {
          "output_type": "stream",
          "name": "stdout",
          "text": [
            "Droping: Index(['last_review', 'reviews_per_month', 'house_rules', 'license'], dtype='object')\n"
          ]
        }
      ]
    },
    {
      "cell_type": "markdown",
      "source": [
        "Drop irrelevant columns"
      ],
      "metadata": {
        "id": "EjBJJoqneOEP"
      }
    },
    {
      "cell_type": "code",
      "source": [
        "irrelevant_to_drop = ['name', 'host_id', 'country', 'country_code',\n",
        "                   'host_name', 'calculated_host_listings_count']\n",
        "columns_drop(df, irrelevant_to_drop)"
      ],
      "metadata": {
        "id": "gLhK3dEpdzhY"
      },
      "execution_count": 235,
      "outputs": []
    },
    {
      "cell_type": "code",
      "source": [
        "df.info()"
      ],
      "metadata": {
        "colab": {
          "base_uri": "https://localhost:8080/"
        },
        "id": "sjbmLwR1dzex",
        "outputId": "d94465ea-2092-405e-c1d6-b289d6bf0aa7"
      },
      "execution_count": 203,
      "outputs": [
        {
          "output_type": "stream",
          "name": "stdout",
          "text": [
            "<class 'pandas.core.frame.DataFrame'>\n",
            "RangeIndex: 102599 entries, 0 to 102598\n",
            "Data columns (total 16 columns):\n",
            " #   Column                  Non-Null Count   Dtype  \n",
            "---  ------                  --------------   -----  \n",
            " 0   id                      102599 non-null  int64  \n",
            " 1   host_identity_verified  102310 non-null  object \n",
            " 2   neighbourhood_group     102570 non-null  object \n",
            " 3   neighbourhood           102583 non-null  object \n",
            " 4   lat                     102591 non-null  float64\n",
            " 5   long                    102591 non-null  float64\n",
            " 6   instant_bookable        102494 non-null  object \n",
            " 7   cancellation_policy     102523 non-null  object \n",
            " 8   room_type               102599 non-null  object \n",
            " 9   construction_year       102385 non-null  float64\n",
            " 10  price                   102352 non-null  object \n",
            " 11  service_fee             102326 non-null  object \n",
            " 12  minimum_nights          102190 non-null  float64\n",
            " 13  number_of_reviews       102416 non-null  float64\n",
            " 14  review_rate_number      102273 non-null  float64\n",
            " 15  availability_365        102151 non-null  float64\n",
            "dtypes: float64(7), int64(1), object(8)\n",
            "memory usage: 12.5+ MB\n"
          ]
        }
      ]
    },
    {
      "cell_type": "code",
      "source": [
        "columns_dollarize(df, ['price', 'service_fee'])\n",
        "columns_fill_null(df, ['price'], df.groupby(['neighbourhood', 'room_type'])['price'].transform('mean'))\n",
        "columns_fill_null(df, ['service_fee', 'price', 'minimum_nights', 'number_of_reviews',\n",
        "                       'review_rate_number', 'availability_365'], 0)\n",
        "columns_fill_null(df, ['host_identity_verified'], 'unconfirmed')\n",
        "columns_fill_null(df, ['cancellation_policy'], 'strict')\n",
        "columns_fill_null(df, ['instant_bookable'], False)"
      ],
      "metadata": {
        "colab": {
          "base_uri": "https://localhost:8080/"
        },
        "id": "Pf_CvTVMdzb-",
        "outputId": "a9b1fcd5-3435-40dc-a919-4b5044756a72"
      },
      "execution_count": 236,
      "outputs": [
        {
          "output_type": "stream",
          "name": "stderr",
          "text": [
            "<ipython-input-231-be692f67a90f>:60: FutureWarning: A value is trying to be set on a copy of a DataFrame or Series through chained assignment using an inplace method.\n",
            "The behavior will change in pandas 3.0. This inplace method will never work because the intermediate object on which we are setting values always behaves as a copy.\n",
            "\n",
            "For example, when doing 'df[col].method(value, inplace=True)', try using 'df.method({col: value}, inplace=True)' or df[col] = df[col].method(value) instead, to perform the operation inplace on the original object.\n",
            "\n",
            "\n",
            "  dataFrame[column].fillna(value, inplace=True)\n",
            "<ipython-input-231-be692f67a90f>:60: FutureWarning: Downcasting object dtype arrays on .fillna, .ffill, .bfill is deprecated and will change in a future version. Call result.infer_objects(copy=False) instead. To opt-in to the future behavior, set `pd.set_option('future.no_silent_downcasting', True)`\n",
            "  dataFrame[column].fillna(value, inplace=True)\n"
          ]
        }
      ]
    },
    {
      "cell_type": "markdown",
      "source": [
        "Drop rows of null values. mentioned counts from draft."
      ],
      "metadata": {
        "id": "-gEr6Eihnbo_"
      }
    },
    {
      "cell_type": "code",
      "source": [
        "rows_drop_by_null(df, ['lat', 'long', 'neighbourhood_group', 'neighbourhood', 'construction_year', 'room_type'])"
      ],
      "metadata": {
        "id": "JO-uDOxgkm8t"
      },
      "execution_count": 237,
      "outputs": []
    },
    {
      "cell_type": "code",
      "source": [
        "df.info()"
      ],
      "metadata": {
        "colab": {
          "base_uri": "https://localhost:8080/"
        },
        "id": "JDceqFX3xkGE",
        "outputId": "0e964112-ad5a-49d7-8bbd-8b3b2035fcd9"
      },
      "execution_count": 238,
      "outputs": [
        {
          "output_type": "stream",
          "name": "stdout",
          "text": [
            "<class 'pandas.core.frame.DataFrame'>\n",
            "Index: 102338 entries, 0 to 102598\n",
            "Data columns (total 16 columns):\n",
            " #   Column                  Non-Null Count   Dtype  \n",
            "---  ------                  --------------   -----  \n",
            " 0   id                      102338 non-null  int64  \n",
            " 1   host_identity_verified  102338 non-null  object \n",
            " 2   neighbourhood_group     102338 non-null  object \n",
            " 3   neighbourhood           102338 non-null  object \n",
            " 4   lat                     102338 non-null  float64\n",
            " 5   long                    102338 non-null  float64\n",
            " 6   instant_bookable        102338 non-null  bool   \n",
            " 7   cancellation_policy     102338 non-null  object \n",
            " 8   room_type               102338 non-null  object \n",
            " 9   construction_year       102338 non-null  float64\n",
            " 10  price                   102338 non-null  float64\n",
            " 11  service_fee             102338 non-null  float64\n",
            " 12  minimum_nights          102338 non-null  float64\n",
            " 13  number_of_reviews       102338 non-null  float64\n",
            " 14  review_rate_number      102338 non-null  float64\n",
            " 15  availability_365        102338 non-null  float64\n",
            "dtypes: bool(1), float64(9), int64(1), object(5)\n",
            "memory usage: 12.6+ MB\n"
          ]
        }
      ]
    },
    {
      "cell_type": "markdown",
      "source": [
        "Lower catagory columns"
      ],
      "metadata": {
        "id": "Vhs0dq5pnpNy"
      }
    },
    {
      "cell_type": "code",
      "source": [
        "columns_lowercase(df, ['host_identity_verified', 'neighbourhood_group',\n",
        "                       'neighbourhood', 'cancellation_policy', 'room_type'])"
      ],
      "metadata": {
        "id": "-IpZoTsknnpA"
      },
      "execution_count": 239,
      "outputs": []
    },
    {
      "cell_type": "code",
      "source": [
        "df.info()"
      ],
      "metadata": {
        "colab": {
          "base_uri": "https://localhost:8080/"
        },
        "id": "YGs28v3TdzR2",
        "outputId": "4600956c-915a-4dd1-8691-026e336304aa"
      },
      "execution_count": 240,
      "outputs": [
        {
          "output_type": "stream",
          "name": "stdout",
          "text": [
            "<class 'pandas.core.frame.DataFrame'>\n",
            "Index: 102338 entries, 0 to 102598\n",
            "Data columns (total 16 columns):\n",
            " #   Column                  Non-Null Count   Dtype  \n",
            "---  ------                  --------------   -----  \n",
            " 0   id                      102338 non-null  int64  \n",
            " 1   host_identity_verified  102338 non-null  object \n",
            " 2   neighbourhood_group     102338 non-null  object \n",
            " 3   neighbourhood           102338 non-null  object \n",
            " 4   lat                     102338 non-null  float64\n",
            " 5   long                    102338 non-null  float64\n",
            " 6   instant_bookable        102338 non-null  bool   \n",
            " 7   cancellation_policy     102338 non-null  object \n",
            " 8   room_type               102338 non-null  object \n",
            " 9   construction_year       102338 non-null  float64\n",
            " 10  price                   102338 non-null  float64\n",
            " 11  service_fee             102338 non-null  float64\n",
            " 12  minimum_nights          102338 non-null  float64\n",
            " 13  number_of_reviews       102338 non-null  float64\n",
            " 14  review_rate_number      102338 non-null  float64\n",
            " 15  availability_365        102338 non-null  float64\n",
            "dtypes: bool(1), float64(9), int64(1), object(5)\n",
            "memory usage: 12.6+ MB\n"
          ]
        }
      ]
    },
    {
      "cell_type": "markdown",
      "source": [
        "Fix inconsistent cases"
      ],
      "metadata": {
        "id": "4Q-PwfhFoIoZ"
      }
    },
    {
      "cell_type": "code",
      "source": [
        "# print all category\n",
        "df['neighbourhood_group'].value_counts().sort_index()"
      ],
      "metadata": {
        "colab": {
          "base_uri": "https://localhost:8080/",
          "height": 335
        },
        "id": "X3cUZt2Bot5Y",
        "outputId": "4f6ffaa8-1ded-4376-cb41-21ad3c80a19d"
      },
      "execution_count": 241,
      "outputs": [
        {
          "output_type": "execute_result",
          "data": {
            "text/plain": [
              "neighbourhood_group\n",
              "bronx             2709\n",
              "brookln              1\n",
              "brooklyn         41735\n",
              "manhatan             1\n",
              "manhattan        43690\n",
              "queens           13248\n",
              "staten island      954\n",
              "Name: count, dtype: int64"
            ],
            "text/html": [
              "<div>\n",
              "<style scoped>\n",
              "    .dataframe tbody tr th:only-of-type {\n",
              "        vertical-align: middle;\n",
              "    }\n",
              "\n",
              "    .dataframe tbody tr th {\n",
              "        vertical-align: top;\n",
              "    }\n",
              "\n",
              "    .dataframe thead th {\n",
              "        text-align: right;\n",
              "    }\n",
              "</style>\n",
              "<table border=\"1\" class=\"dataframe\">\n",
              "  <thead>\n",
              "    <tr style=\"text-align: right;\">\n",
              "      <th></th>\n",
              "      <th>count</th>\n",
              "    </tr>\n",
              "    <tr>\n",
              "      <th>neighbourhood_group</th>\n",
              "      <th></th>\n",
              "    </tr>\n",
              "  </thead>\n",
              "  <tbody>\n",
              "    <tr>\n",
              "      <th>bronx</th>\n",
              "      <td>2709</td>\n",
              "    </tr>\n",
              "    <tr>\n",
              "      <th>brookln</th>\n",
              "      <td>1</td>\n",
              "    </tr>\n",
              "    <tr>\n",
              "      <th>brooklyn</th>\n",
              "      <td>41735</td>\n",
              "    </tr>\n",
              "    <tr>\n",
              "      <th>manhatan</th>\n",
              "      <td>1</td>\n",
              "    </tr>\n",
              "    <tr>\n",
              "      <th>manhattan</th>\n",
              "      <td>43690</td>\n",
              "    </tr>\n",
              "    <tr>\n",
              "      <th>queens</th>\n",
              "      <td>13248</td>\n",
              "    </tr>\n",
              "    <tr>\n",
              "      <th>staten island</th>\n",
              "      <td>954</td>\n",
              "    </tr>\n",
              "  </tbody>\n",
              "</table>\n",
              "</div><br><label><b>dtype:</b> int64</label>"
            ]
          },
          "metadata": {},
          "execution_count": 241
        }
      ]
    },
    {
      "cell_type": "code",
      "source": [
        "df.loc[df['neighbourhood_group'] == 'manhatan', \"neighbourhood_group\"] = 'manhattan'\n",
        "df.loc[df['neighbourhood_group'] == 'brookln', \"neighbourhood_group\"] = 'brooklyn'"
      ],
      "metadata": {
        "id": "E0lSUdSBe4ii"
      },
      "execution_count": 242,
      "outputs": []
    },
    {
      "cell_type": "code",
      "source": [
        "df.info()"
      ],
      "metadata": {
        "id": "QrwsCdjYe4f-",
        "colab": {
          "base_uri": "https://localhost:8080/"
        },
        "outputId": "ca232cfd-9fe0-4c24-db83-838a928bdac6"
      },
      "execution_count": 243,
      "outputs": [
        {
          "output_type": "stream",
          "name": "stdout",
          "text": [
            "<class 'pandas.core.frame.DataFrame'>\n",
            "Index: 102338 entries, 0 to 102598\n",
            "Data columns (total 16 columns):\n",
            " #   Column                  Non-Null Count   Dtype  \n",
            "---  ------                  --------------   -----  \n",
            " 0   id                      102338 non-null  int64  \n",
            " 1   host_identity_verified  102338 non-null  object \n",
            " 2   neighbourhood_group     102338 non-null  object \n",
            " 3   neighbourhood           102338 non-null  object \n",
            " 4   lat                     102338 non-null  float64\n",
            " 5   long                    102338 non-null  float64\n",
            " 6   instant_bookable        102338 non-null  bool   \n",
            " 7   cancellation_policy     102338 non-null  object \n",
            " 8   room_type               102338 non-null  object \n",
            " 9   construction_year       102338 non-null  float64\n",
            " 10  price                   102338 non-null  float64\n",
            " 11  service_fee             102338 non-null  float64\n",
            " 12  minimum_nights          102338 non-null  float64\n",
            " 13  number_of_reviews       102338 non-null  float64\n",
            " 14  review_rate_number      102338 non-null  float64\n",
            " 15  availability_365        102338 non-null  float64\n",
            "dtypes: bool(1), float64(9), int64(1), object(5)\n",
            "memory usage: 12.6+ MB\n"
          ]
        }
      ]
    },
    {
      "cell_type": "markdown",
      "source": [
        "bay terrace 8 bay terrace, staten island 4 | checked not same\n",
        "\n",
        "chelsea 2281 chelsea, staten island 1 | checked not same\n",
        "\n",
        "clifton 39 clinton hill 1137 | checked not same\n",
        "\n",
        "concourse 122 concourse village 76 | checked not same\n",
        "\n",
        "hollis 44 holliswood 10 | checked not same\n",
        "\n",
        "jamaica 618 jamaica estates 50 jamaica hills 21 | checked not same\n",
        "\n",
        "kew gardens 83 kew gardens hills 66 | checked not same\n",
        "\n",
        "new dorp 4 new dorp beach 12 | checked new drop include new drop beach\n",
        "\n",
        "As these names are very similar, we decided to check them on google map, and confiremd they are different areas."
      ],
      "metadata": {
        "id": "Xr9evcn9vXft"
      }
    },
    {
      "cell_type": "code",
      "source": [
        "df['neighbourhood'].value_counts().sort_index().to_string()"
      ],
      "metadata": {
        "id": "4dH6Ao2We4dX",
        "colab": {
          "base_uri": "https://localhost:8080/",
          "height": 104
        },
        "outputId": "c677db0d-3e39-4326-a63b-d11a9bc64446"
      },
      "execution_count": 244,
      "outputs": [
        {
          "output_type": "execute_result",
          "data": {
            "text/plain": [
              "\"neighbourhood\\nallerton                        96\\narden heights                    9\\narrochar                        52\\narverne                        223\\nastoria                       1872\\nbath beach                      48\\nbattery park city              118\\nbay ridge                      304\\nbay terrace                      8\\nbay terrace, staten island       4\\nbaychester                      29\\nbayside                        124\\nbayswater                       40\\nbedford-stuyvesant            7918\\nbelle harbor                    31\\nbellerose                       26\\nbelmont                         45\\nbensonhurst                    157\\nbergen beach                    30\\nboerum hill                    357\\nborough park                   268\\nbreezy point                     9\\nbriarwood                      121\\nbrighton beach                 167\\nbronxdale                       48\\nbrooklyn heights               308\\nbrownsville                    153\\nbull's head                     12\\nbushwick                      4973\\ncambria heights                 78\\ncanarsie                       402\\ncarroll gardens                479\\ncastle hill                     22\\ncastleton corners               13\\nchelsea                       2281\\nchelsea, staten island           1\\nchinatown                      789\\ncity island                     41\\ncivic center                   106\\nclaremont village               59\\nclason point                    50\\nclifton                         39\\nclinton hill                  1137\\nco-op city                       5\\ncobble hill                    199\\ncollege point                   48\\ncolumbia st                     89\\nconcord                         60\\nconcourse                      122\\nconcourse village               76\\nconey island                    50\\ncorona                         160\\ncrown heights                 3251\\ncypress hills                  335\\nditmars steinway               683\\ndongan hills                    13\\ndouglaston                      22\\ndowntown brooklyn              175\\ndumbo                           70\\ndyker heights                   25\\neast elmhurst                  486\\neast flatbush                 1209\\neast harlem                   2334\\neast morrisania                 21\\neast new york                  606\\neast village                  3480\\neastchester                     28\\nedenwald                        35\\nedgemere                        32\\nelmhurst                       529\\neltingville                      7\\nemerson hill                    10\\nfar rockaway                    78\\nfieldston                       25\\nfinancial district            1488\\nflatbush                      1293\\nflatiron district              157\\nflatlands                      217\\nflushing                       985\\nfordham                        153\\nforest hills                   303\\nfort greene                    947\\nfort hamilton                  120\\nfort wadsworth                   2\\nfresh meadows                  100\\ngerritsen beach                  3\\nglen oaks                        2\\nglendale                       139\\ngowanus                        492\\ngramercy                       693\\ngraniteville                     7\\ngrant city                      22\\ngravesend                      143\\ngreat kills                     24\\ngreenpoint                    2134\\ngreenwich village              742\\ngrymes hill                     18\\nharlem                        5449\\nhell's kitchen                3956\\nhighbridge                      67\\nhollis                          44\\nholliswood                      10\\nhoward beach                    50\\nhowland hook                     6\\nhuguenot                         9\\nhunts point                     53\\ninwood                         545\\njackson heights                448\\njamaica                        618\\njamaica estates                 50\\njamaica hills                   21\\nkensington                     369\\nkew gardens                     83\\nkew gardens hills               66\\nkingsbridge                    165\\nkips bay                       916\\nlaurelton                       68\\nlighthouse hill                  3\\nlittle italy                   277\\nlittle neck                      8\\nlong island city              1150\\nlongwood                       135\\nlower east side               1942\\nmanhattan beach                 22\\nmarble hill                     28\\nmariners harbor                 25\\nmaspeth                        258\\nmelrose                         23\\nmiddle village                  65\\nmidland beach                   17\\nmidtown                       3387\\nmidwood                        235\\nmill basin                      14\\nmorningside heights            633\\nmorris heights                  46\\nmorris park                     45\\nmorrisania                      44\\nmott haven                     149\\nmount eden                      18\\nmount hope                      54\\nmurray hill                    960\\nnavy yard                       31\\nneponsit                         7\\nnew brighton                    15\\nnew dorp                         4\\nnew dorp beach                  12\\nnew springville                 18\\nnoho                           140\\nnolita                         528\\nnorth riverdale                 28\\nnorwood                         76\\noakwood                         14\\nolinville                       23\\nozone park                     150\\npark slope                    1000\\nparkchester                     99\\npelham bay                      44\\npelham gardens                  74\\nport morris                     99\\nport richmond                   25\\nprince's bay                     8\\nprospect heights               695\\nprospect-lefferts gardens     1163\\nqueens village                 146\\nrandall manor                   45\\nred hook                       178\\nrego park                      236\\nrichmond hill                  221\\nrichmondtown                     5\\nridgewood                      907\\nriverdale                       19\\nrockaway beach                 187\\nroosevelt island               159\\nrosebank                        14\\nrosedale                       171\\nrossville                        3\\nschuylerville                   47\\nsea gate                        20\\nsheepshead bay                 369\\nshore acres                     23\\nsilver lake                      9\\nsoho                           685\\nsoundview                       33\\nsouth beach                     16\\nsouth ozone park               127\\nsouth slope                    565\\nspringfield gardens            248\\nspuyten duyvil                   9\\nst. albans                     216\\nst. george                     125\\nstapleton                       65\\nstuyvesant town                 83\\nsunnyside                      790\\nsunset park                    865\\ntheater district               565\\nthrogs neck                     58\\ntodt hill                        7\\ntompkinsville                  110\\ntottenville                     13\\ntremont                         31\\ntribeca                        345\\ntwo bridges                    130\\nunionport                       22\\nuniversity heights              54\\nupper east side               3670\\nupper west side               3849\\nvan nest                        26\\nvinegar hill                    72\\nwakefield                      159\\nwashington heights            1777\\nwest brighton                   59\\nwest farms                       6\\nwest village                  1479\\nwestchester square              23\\nwesterleigh                      5\\nwhitestone                      26\\nwilliamsbridge                  96\\nwilliamsburg                  7751\\nwillowbrook                      3\\nwindsor terrace                328\\nwoodhaven                      191\\nwoodlawn                        29\\nwoodrow                          3\\nwoodside                       587\""
            ],
            "application/vnd.google.colaboratory.intrinsic+json": {
              "type": "string"
            }
          },
          "metadata": {},
          "execution_count": 244
        }
      ]
    },
    {
      "cell_type": "code",
      "source": [
        "df['host_identity_verified'].value_counts().sort_index()"
      ],
      "metadata": {
        "id": "RuFUAlgWe4a8",
        "colab": {
          "base_uri": "https://localhost:8080/",
          "height": 178
        },
        "outputId": "f509eb27-ba66-48b9-f961-90373a431034"
      },
      "execution_count": 245,
      "outputs": [
        {
          "output_type": "execute_result",
          "data": {
            "text/plain": [
              "host_identity_verified\n",
              "unconfirmed    51333\n",
              "verified       51005\n",
              "Name: count, dtype: int64"
            ],
            "text/html": [
              "<div>\n",
              "<style scoped>\n",
              "    .dataframe tbody tr th:only-of-type {\n",
              "        vertical-align: middle;\n",
              "    }\n",
              "\n",
              "    .dataframe tbody tr th {\n",
              "        vertical-align: top;\n",
              "    }\n",
              "\n",
              "    .dataframe thead th {\n",
              "        text-align: right;\n",
              "    }\n",
              "</style>\n",
              "<table border=\"1\" class=\"dataframe\">\n",
              "  <thead>\n",
              "    <tr style=\"text-align: right;\">\n",
              "      <th></th>\n",
              "      <th>count</th>\n",
              "    </tr>\n",
              "    <tr>\n",
              "      <th>host_identity_verified</th>\n",
              "      <th></th>\n",
              "    </tr>\n",
              "  </thead>\n",
              "  <tbody>\n",
              "    <tr>\n",
              "      <th>unconfirmed</th>\n",
              "      <td>51333</td>\n",
              "    </tr>\n",
              "    <tr>\n",
              "      <th>verified</th>\n",
              "      <td>51005</td>\n",
              "    </tr>\n",
              "  </tbody>\n",
              "</table>\n",
              "</div><br><label><b>dtype:</b> int64</label>"
            ]
          },
          "metadata": {},
          "execution_count": 245
        }
      ]
    },
    {
      "cell_type": "code",
      "source": [
        "df['cancellation_policy'].value_counts().sort_index()"
      ],
      "metadata": {
        "colab": {
          "base_uri": "https://localhost:8080/",
          "height": 209
        },
        "id": "so_jO0bBy2Jv",
        "outputId": "717d5190-e8b4-4e9b-dfb8-204013dc2b53"
      },
      "execution_count": 246,
      "outputs": [
        {
          "output_type": "execute_result",
          "data": {
            "text/plain": [
              "cancellation_policy\n",
              "flexible    33975\n",
              "moderate    34265\n",
              "strict      34098\n",
              "Name: count, dtype: int64"
            ],
            "text/html": [
              "<div>\n",
              "<style scoped>\n",
              "    .dataframe tbody tr th:only-of-type {\n",
              "        vertical-align: middle;\n",
              "    }\n",
              "\n",
              "    .dataframe tbody tr th {\n",
              "        vertical-align: top;\n",
              "    }\n",
              "\n",
              "    .dataframe thead th {\n",
              "        text-align: right;\n",
              "    }\n",
              "</style>\n",
              "<table border=\"1\" class=\"dataframe\">\n",
              "  <thead>\n",
              "    <tr style=\"text-align: right;\">\n",
              "      <th></th>\n",
              "      <th>count</th>\n",
              "    </tr>\n",
              "    <tr>\n",
              "      <th>cancellation_policy</th>\n",
              "      <th></th>\n",
              "    </tr>\n",
              "  </thead>\n",
              "  <tbody>\n",
              "    <tr>\n",
              "      <th>flexible</th>\n",
              "      <td>33975</td>\n",
              "    </tr>\n",
              "    <tr>\n",
              "      <th>moderate</th>\n",
              "      <td>34265</td>\n",
              "    </tr>\n",
              "    <tr>\n",
              "      <th>strict</th>\n",
              "      <td>34098</td>\n",
              "    </tr>\n",
              "  </tbody>\n",
              "</table>\n",
              "</div><br><label><b>dtype:</b> int64</label>"
            ]
          },
          "metadata": {},
          "execution_count": 246
        }
      ]
    },
    {
      "cell_type": "code",
      "source": [
        "df['room_type'].value_counts().sort_index()"
      ],
      "metadata": {
        "colab": {
          "base_uri": "https://localhost:8080/",
          "height": 241
        },
        "id": "FcUATncVy2HY",
        "outputId": "41f82b76-dec5-42e1-c46f-29cbce512ea2"
      },
      "execution_count": 247,
      "outputs": [
        {
          "output_type": "execute_result",
          "data": {
            "text/plain": [
              "room_type\n",
              "entire home/apt    53558\n",
              "hotel room           116\n",
              "private room       46439\n",
              "shared room         2225\n",
              "Name: count, dtype: int64"
            ],
            "text/html": [
              "<div>\n",
              "<style scoped>\n",
              "    .dataframe tbody tr th:only-of-type {\n",
              "        vertical-align: middle;\n",
              "    }\n",
              "\n",
              "    .dataframe tbody tr th {\n",
              "        vertical-align: top;\n",
              "    }\n",
              "\n",
              "    .dataframe thead th {\n",
              "        text-align: right;\n",
              "    }\n",
              "</style>\n",
              "<table border=\"1\" class=\"dataframe\">\n",
              "  <thead>\n",
              "    <tr style=\"text-align: right;\">\n",
              "      <th></th>\n",
              "      <th>count</th>\n",
              "    </tr>\n",
              "    <tr>\n",
              "      <th>room_type</th>\n",
              "      <th></th>\n",
              "    </tr>\n",
              "  </thead>\n",
              "  <tbody>\n",
              "    <tr>\n",
              "      <th>entire home/apt</th>\n",
              "      <td>53558</td>\n",
              "    </tr>\n",
              "    <tr>\n",
              "      <th>hotel room</th>\n",
              "      <td>116</td>\n",
              "    </tr>\n",
              "    <tr>\n",
              "      <th>private room</th>\n",
              "      <td>46439</td>\n",
              "    </tr>\n",
              "    <tr>\n",
              "      <th>shared room</th>\n",
              "      <td>2225</td>\n",
              "    </tr>\n",
              "  </tbody>\n",
              "</table>\n",
              "</div><br><label><b>dtype:</b> int64</label>"
            ]
          },
          "metadata": {},
          "execution_count": 247
        }
      ]
    },
    {
      "cell_type": "markdown",
      "source": [
        "Cast columns to the appropriate types."
      ],
      "metadata": {
        "id": "lg4Kh8QuzlmH"
      }
    },
    {
      "cell_type": "code",
      "source": [
        "int_columns = ['minimum_nights', 'number_of_reviews', 'review_rate_number', 'availability_365', 'construction_year']\n",
        "cat_columns = ['host_identity_verified', 'neighbourhood_group', 'neighbourhood', 'instant_bookable', 'cancellation_policy', 'room_type']\n",
        "float_columns = ['lat','long', 'price', 'service_fee']\n",
        "columns_intize(df, int_columns)\n",
        "columns_categorize(df, cat_columns)\n",
        "columns_floatize(df, float_columns)"
      ],
      "metadata": {
        "id": "G-YuQCuTy2FG"
      },
      "execution_count": 248,
      "outputs": []
    },
    {
      "cell_type": "code",
      "source": [
        "df.info()"
      ],
      "metadata": {
        "colab": {
          "base_uri": "https://localhost:8080/"
        },
        "id": "oua39hpf04j8",
        "outputId": "47e0dfe5-f78a-4012-864a-9a239e7022ac"
      },
      "execution_count": 249,
      "outputs": [
        {
          "output_type": "stream",
          "name": "stdout",
          "text": [
            "<class 'pandas.core.frame.DataFrame'>\n",
            "Index: 102338 entries, 0 to 102598\n",
            "Data columns (total 16 columns):\n",
            " #   Column                  Non-Null Count   Dtype   \n",
            "---  ------                  --------------   -----   \n",
            " 0   id                      102338 non-null  int64   \n",
            " 1   host_identity_verified  102338 non-null  category\n",
            " 2   neighbourhood_group     102338 non-null  category\n",
            " 3   neighbourhood           102338 non-null  category\n",
            " 4   lat                     102338 non-null  float64 \n",
            " 5   long                    102338 non-null  float64 \n",
            " 6   instant_bookable        102338 non-null  category\n",
            " 7   cancellation_policy     102338 non-null  category\n",
            " 8   room_type               102338 non-null  category\n",
            " 9   construction_year       102338 non-null  int64   \n",
            " 10  price                   102338 non-null  float64 \n",
            " 11  service_fee             102338 non-null  float64 \n",
            " 12  minimum_nights          102338 non-null  int64   \n",
            " 13  number_of_reviews       102338 non-null  int64   \n",
            " 14  review_rate_number      102338 non-null  int64   \n",
            " 15  availability_365        102338 non-null  int64   \n",
            "dtypes: category(6), float64(4), int64(6)\n",
            "memory usage: 9.3 MB\n"
          ]
        }
      ]
    },
    {
      "cell_type": "markdown",
      "source": [
        "Fix inconsistent cases"
      ],
      "metadata": {
        "id": "lnqGKLZf09qT"
      }
    },
    {
      "cell_type": "code",
      "source": [
        "rows_drop_by_condition(df, df['price'] == 0)\n",
        "apply_lambda(df, ['availability_365', 'minimum_nights'], lambda x: max(0, x))\n",
        "apply_lambda(df, ['availability_365'], lambda x: min(365, x))"
      ],
      "metadata": {
        "id": "lALk5Ez1y2Cp"
      },
      "execution_count": 250,
      "outputs": []
    },
    {
      "cell_type": "code",
      "source": [
        "df['availability_365'].describe()"
      ],
      "metadata": {
        "colab": {
          "base_uri": "https://localhost:8080/",
          "height": 335
        },
        "id": "mkUphT6S3dT_",
        "outputId": "3dbb34e3-a8ee-4630-d811-df9b886b5aac"
      },
      "execution_count": 251,
      "outputs": [
        {
          "output_type": "execute_result",
          "data": {
            "text/plain": [
              "count    102338.000000\n",
              "mean        139.651947\n",
              "std         133.477069\n",
              "min           0.000000\n",
              "25%           2.000000\n",
              "50%          95.000000\n",
              "75%         268.000000\n",
              "max         365.000000\n",
              "Name: availability_365, dtype: float64"
            ],
            "text/html": [
              "<div>\n",
              "<style scoped>\n",
              "    .dataframe tbody tr th:only-of-type {\n",
              "        vertical-align: middle;\n",
              "    }\n",
              "\n",
              "    .dataframe tbody tr th {\n",
              "        vertical-align: top;\n",
              "    }\n",
              "\n",
              "    .dataframe thead th {\n",
              "        text-align: right;\n",
              "    }\n",
              "</style>\n",
              "<table border=\"1\" class=\"dataframe\">\n",
              "  <thead>\n",
              "    <tr style=\"text-align: right;\">\n",
              "      <th></th>\n",
              "      <th>availability_365</th>\n",
              "    </tr>\n",
              "  </thead>\n",
              "  <tbody>\n",
              "    <tr>\n",
              "      <th>count</th>\n",
              "      <td>102338.000000</td>\n",
              "    </tr>\n",
              "    <tr>\n",
              "      <th>mean</th>\n",
              "      <td>139.651947</td>\n",
              "    </tr>\n",
              "    <tr>\n",
              "      <th>std</th>\n",
              "      <td>133.477069</td>\n",
              "    </tr>\n",
              "    <tr>\n",
              "      <th>min</th>\n",
              "      <td>0.000000</td>\n",
              "    </tr>\n",
              "    <tr>\n",
              "      <th>25%</th>\n",
              "      <td>2.000000</td>\n",
              "    </tr>\n",
              "    <tr>\n",
              "      <th>50%</th>\n",
              "      <td>95.000000</td>\n",
              "    </tr>\n",
              "    <tr>\n",
              "      <th>75%</th>\n",
              "      <td>268.000000</td>\n",
              "    </tr>\n",
              "    <tr>\n",
              "      <th>max</th>\n",
              "      <td>365.000000</td>\n",
              "    </tr>\n",
              "  </tbody>\n",
              "</table>\n",
              "</div><br><label><b>dtype:</b> float64</label>"
            ]
          },
          "metadata": {},
          "execution_count": 251
        }
      ]
    },
    {
      "cell_type": "code",
      "source": [
        "df['minimum_nights'].describe()"
      ],
      "metadata": {
        "colab": {
          "base_uri": "https://localhost:8080/",
          "height": 335
        },
        "id": "igG1oFRZ3nPW",
        "outputId": "c928a39b-b8f5-4117-d32d-f15f2f216455"
      },
      "execution_count": 252,
      "outputs": [
        {
          "output_type": "execute_result",
          "data": {
            "text/plain": [
              "count    102338.000000\n",
              "mean          8.120112\n",
              "std          30.227049\n",
              "min           0.000000\n",
              "25%           1.000000\n",
              "50%           3.000000\n",
              "75%           5.000000\n",
              "max        5645.000000\n",
              "Name: minimum_nights, dtype: float64"
            ],
            "text/html": [
              "<div>\n",
              "<style scoped>\n",
              "    .dataframe tbody tr th:only-of-type {\n",
              "        vertical-align: middle;\n",
              "    }\n",
              "\n",
              "    .dataframe tbody tr th {\n",
              "        vertical-align: top;\n",
              "    }\n",
              "\n",
              "    .dataframe thead th {\n",
              "        text-align: right;\n",
              "    }\n",
              "</style>\n",
              "<table border=\"1\" class=\"dataframe\">\n",
              "  <thead>\n",
              "    <tr style=\"text-align: right;\">\n",
              "      <th></th>\n",
              "      <th>minimum_nights</th>\n",
              "    </tr>\n",
              "  </thead>\n",
              "  <tbody>\n",
              "    <tr>\n",
              "      <th>count</th>\n",
              "      <td>102338.000000</td>\n",
              "    </tr>\n",
              "    <tr>\n",
              "      <th>mean</th>\n",
              "      <td>8.120112</td>\n",
              "    </tr>\n",
              "    <tr>\n",
              "      <th>std</th>\n",
              "      <td>30.227049</td>\n",
              "    </tr>\n",
              "    <tr>\n",
              "      <th>min</th>\n",
              "      <td>0.000000</td>\n",
              "    </tr>\n",
              "    <tr>\n",
              "      <th>25%</th>\n",
              "      <td>1.000000</td>\n",
              "    </tr>\n",
              "    <tr>\n",
              "      <th>50%</th>\n",
              "      <td>3.000000</td>\n",
              "    </tr>\n",
              "    <tr>\n",
              "      <th>75%</th>\n",
              "      <td>5.000000</td>\n",
              "    </tr>\n",
              "    <tr>\n",
              "      <th>max</th>\n",
              "      <td>5645.000000</td>\n",
              "    </tr>\n",
              "  </tbody>\n",
              "</table>\n",
              "</div><br><label><b>dtype:</b> float64</label>"
            ]
          },
          "metadata": {},
          "execution_count": 252
        }
      ]
    },
    {
      "cell_type": "code",
      "source": [
        "df.describe()"
      ],
      "metadata": {
        "colab": {
          "base_uri": "https://localhost:8080/",
          "height": 300
        },
        "id": "pYypf_2wy2AK",
        "outputId": "8368efde-ba11-48b7-e453-800671e97c23"
      },
      "execution_count": 254,
      "outputs": [
        {
          "output_type": "execute_result",
          "data": {
            "text/plain": [
              "                 id            lat           long  construction_year  \\\n",
              "count  1.023380e+05  102338.000000  102338.000000      102338.000000   \n",
              "mean   2.919474e+07      40.728091     -73.949631        2012.487287   \n",
              "std    1.622979e+07       0.055863       0.049544           5.765455   \n",
              "min    1.001254e+06      40.499790     -74.249840        2003.000000   \n",
              "25%    1.515527e+07      40.688750     -73.982580        2007.000000   \n",
              "50%    2.919211e+07      40.722300     -73.954440        2012.000000   \n",
              "75%    4.322398e+07      40.762757     -73.932340        2017.000000   \n",
              "max    5.736742e+07      40.916970     -73.705220        2022.000000   \n",
              "\n",
              "               price    service_fee  minimum_nights  number_of_reviews  \\\n",
              "count  102338.000000  102338.000000   102338.000000      102338.000000   \n",
              "mean      625.324514     124.707352        8.120112          27.350310   \n",
              "std       331.289480      66.547533       30.227049          49.351284   \n",
              "min        50.000000       0.000000        0.000000           0.000000   \n",
              "25%       340.250000      67.000000        1.000000           1.000000   \n",
              "50%       625.000000     124.500000        3.000000           7.000000   \n",
              "75%       912.000000     182.000000        5.000000          30.000000   \n",
              "max      1200.000000     240.000000     5645.000000        1024.000000   \n",
              "\n",
              "       review_rate_number  availability_365  \n",
              "count       102338.000000     102338.000000  \n",
              "mean             3.269480        139.651947  \n",
              "std              1.295229        133.477069  \n",
              "min              0.000000          0.000000  \n",
              "25%              2.000000          2.000000  \n",
              "50%              3.000000         95.000000  \n",
              "75%              4.000000        268.000000  \n",
              "max              5.000000        365.000000  "
            ],
            "text/html": [
              "\n",
              "  <div id=\"df-6737d07e-55a4-43d7-a0d5-3dd321977969\" class=\"colab-df-container\">\n",
              "    <div>\n",
              "<style scoped>\n",
              "    .dataframe tbody tr th:only-of-type {\n",
              "        vertical-align: middle;\n",
              "    }\n",
              "\n",
              "    .dataframe tbody tr th {\n",
              "        vertical-align: top;\n",
              "    }\n",
              "\n",
              "    .dataframe thead th {\n",
              "        text-align: right;\n",
              "    }\n",
              "</style>\n",
              "<table border=\"1\" class=\"dataframe\">\n",
              "  <thead>\n",
              "    <tr style=\"text-align: right;\">\n",
              "      <th></th>\n",
              "      <th>id</th>\n",
              "      <th>lat</th>\n",
              "      <th>long</th>\n",
              "      <th>construction_year</th>\n",
              "      <th>price</th>\n",
              "      <th>service_fee</th>\n",
              "      <th>minimum_nights</th>\n",
              "      <th>number_of_reviews</th>\n",
              "      <th>review_rate_number</th>\n",
              "      <th>availability_365</th>\n",
              "    </tr>\n",
              "  </thead>\n",
              "  <tbody>\n",
              "    <tr>\n",
              "      <th>count</th>\n",
              "      <td>1.023380e+05</td>\n",
              "      <td>102338.000000</td>\n",
              "      <td>102338.000000</td>\n",
              "      <td>102338.000000</td>\n",
              "      <td>102338.000000</td>\n",
              "      <td>102338.000000</td>\n",
              "      <td>102338.000000</td>\n",
              "      <td>102338.000000</td>\n",
              "      <td>102338.000000</td>\n",
              "      <td>102338.000000</td>\n",
              "    </tr>\n",
              "    <tr>\n",
              "      <th>mean</th>\n",
              "      <td>2.919474e+07</td>\n",
              "      <td>40.728091</td>\n",
              "      <td>-73.949631</td>\n",
              "      <td>2012.487287</td>\n",
              "      <td>625.324514</td>\n",
              "      <td>124.707352</td>\n",
              "      <td>8.120112</td>\n",
              "      <td>27.350310</td>\n",
              "      <td>3.269480</td>\n",
              "      <td>139.651947</td>\n",
              "    </tr>\n",
              "    <tr>\n",
              "      <th>std</th>\n",
              "      <td>1.622979e+07</td>\n",
              "      <td>0.055863</td>\n",
              "      <td>0.049544</td>\n",
              "      <td>5.765455</td>\n",
              "      <td>331.289480</td>\n",
              "      <td>66.547533</td>\n",
              "      <td>30.227049</td>\n",
              "      <td>49.351284</td>\n",
              "      <td>1.295229</td>\n",
              "      <td>133.477069</td>\n",
              "    </tr>\n",
              "    <tr>\n",
              "      <th>min</th>\n",
              "      <td>1.001254e+06</td>\n",
              "      <td>40.499790</td>\n",
              "      <td>-74.249840</td>\n",
              "      <td>2003.000000</td>\n",
              "      <td>50.000000</td>\n",
              "      <td>0.000000</td>\n",
              "      <td>0.000000</td>\n",
              "      <td>0.000000</td>\n",
              "      <td>0.000000</td>\n",
              "      <td>0.000000</td>\n",
              "    </tr>\n",
              "    <tr>\n",
              "      <th>25%</th>\n",
              "      <td>1.515527e+07</td>\n",
              "      <td>40.688750</td>\n",
              "      <td>-73.982580</td>\n",
              "      <td>2007.000000</td>\n",
              "      <td>340.250000</td>\n",
              "      <td>67.000000</td>\n",
              "      <td>1.000000</td>\n",
              "      <td>1.000000</td>\n",
              "      <td>2.000000</td>\n",
              "      <td>2.000000</td>\n",
              "    </tr>\n",
              "    <tr>\n",
              "      <th>50%</th>\n",
              "      <td>2.919211e+07</td>\n",
              "      <td>40.722300</td>\n",
              "      <td>-73.954440</td>\n",
              "      <td>2012.000000</td>\n",
              "      <td>625.000000</td>\n",
              "      <td>124.500000</td>\n",
              "      <td>3.000000</td>\n",
              "      <td>7.000000</td>\n",
              "      <td>3.000000</td>\n",
              "      <td>95.000000</td>\n",
              "    </tr>\n",
              "    <tr>\n",
              "      <th>75%</th>\n",
              "      <td>4.322398e+07</td>\n",
              "      <td>40.762757</td>\n",
              "      <td>-73.932340</td>\n",
              "      <td>2017.000000</td>\n",
              "      <td>912.000000</td>\n",
              "      <td>182.000000</td>\n",
              "      <td>5.000000</td>\n",
              "      <td>30.000000</td>\n",
              "      <td>4.000000</td>\n",
              "      <td>268.000000</td>\n",
              "    </tr>\n",
              "    <tr>\n",
              "      <th>max</th>\n",
              "      <td>5.736742e+07</td>\n",
              "      <td>40.916970</td>\n",
              "      <td>-73.705220</td>\n",
              "      <td>2022.000000</td>\n",
              "      <td>1200.000000</td>\n",
              "      <td>240.000000</td>\n",
              "      <td>5645.000000</td>\n",
              "      <td>1024.000000</td>\n",
              "      <td>5.000000</td>\n",
              "      <td>365.000000</td>\n",
              "    </tr>\n",
              "  </tbody>\n",
              "</table>\n",
              "</div>\n",
              "    <div class=\"colab-df-buttons\">\n",
              "\n",
              "  <div class=\"colab-df-container\">\n",
              "    <button class=\"colab-df-convert\" onclick=\"convertToInteractive('df-6737d07e-55a4-43d7-a0d5-3dd321977969')\"\n",
              "            title=\"Convert this dataframe to an interactive table.\"\n",
              "            style=\"display:none;\">\n",
              "\n",
              "  <svg xmlns=\"http://www.w3.org/2000/svg\" height=\"24px\" viewBox=\"0 -960 960 960\">\n",
              "    <path d=\"M120-120v-720h720v720H120Zm60-500h600v-160H180v160Zm220 220h160v-160H400v160Zm0 220h160v-160H400v160ZM180-400h160v-160H180v160Zm440 0h160v-160H620v160ZM180-180h160v-160H180v160Zm440 0h160v-160H620v160Z\"/>\n",
              "  </svg>\n",
              "    </button>\n",
              "\n",
              "  <style>\n",
              "    .colab-df-container {\n",
              "      display:flex;\n",
              "      gap: 12px;\n",
              "    }\n",
              "\n",
              "    .colab-df-convert {\n",
              "      background-color: #E8F0FE;\n",
              "      border: none;\n",
              "      border-radius: 50%;\n",
              "      cursor: pointer;\n",
              "      display: none;\n",
              "      fill: #1967D2;\n",
              "      height: 32px;\n",
              "      padding: 0 0 0 0;\n",
              "      width: 32px;\n",
              "    }\n",
              "\n",
              "    .colab-df-convert:hover {\n",
              "      background-color: #E2EBFA;\n",
              "      box-shadow: 0px 1px 2px rgba(60, 64, 67, 0.3), 0px 1px 3px 1px rgba(60, 64, 67, 0.15);\n",
              "      fill: #174EA6;\n",
              "    }\n",
              "\n",
              "    .colab-df-buttons div {\n",
              "      margin-bottom: 4px;\n",
              "    }\n",
              "\n",
              "    [theme=dark] .colab-df-convert {\n",
              "      background-color: #3B4455;\n",
              "      fill: #D2E3FC;\n",
              "    }\n",
              "\n",
              "    [theme=dark] .colab-df-convert:hover {\n",
              "      background-color: #434B5C;\n",
              "      box-shadow: 0px 1px 3px 1px rgba(0, 0, 0, 0.15);\n",
              "      filter: drop-shadow(0px 1px 2px rgba(0, 0, 0, 0.3));\n",
              "      fill: #FFFFFF;\n",
              "    }\n",
              "  </style>\n",
              "\n",
              "    <script>\n",
              "      const buttonEl =\n",
              "        document.querySelector('#df-6737d07e-55a4-43d7-a0d5-3dd321977969 button.colab-df-convert');\n",
              "      buttonEl.style.display =\n",
              "        google.colab.kernel.accessAllowed ? 'block' : 'none';\n",
              "\n",
              "      async function convertToInteractive(key) {\n",
              "        const element = document.querySelector('#df-6737d07e-55a4-43d7-a0d5-3dd321977969');\n",
              "        const dataTable =\n",
              "          await google.colab.kernel.invokeFunction('convertToInteractive',\n",
              "                                                    [key], {});\n",
              "        if (!dataTable) return;\n",
              "\n",
              "        const docLinkHtml = 'Like what you see? Visit the ' +\n",
              "          '<a target=\"_blank\" href=https://colab.research.google.com/notebooks/data_table.ipynb>data table notebook</a>'\n",
              "          + ' to learn more about interactive tables.';\n",
              "        element.innerHTML = '';\n",
              "        dataTable['output_type'] = 'display_data';\n",
              "        await google.colab.output.renderOutput(dataTable, element);\n",
              "        const docLink = document.createElement('div');\n",
              "        docLink.innerHTML = docLinkHtml;\n",
              "        element.appendChild(docLink);\n",
              "      }\n",
              "    </script>\n",
              "  </div>\n",
              "\n",
              "\n",
              "<div id=\"df-8363ffab-87dc-439a-a41d-8dbabbb4c40e\">\n",
              "  <button class=\"colab-df-quickchart\" onclick=\"quickchart('df-8363ffab-87dc-439a-a41d-8dbabbb4c40e')\"\n",
              "            title=\"Suggest charts\"\n",
              "            style=\"display:none;\">\n",
              "\n",
              "<svg xmlns=\"http://www.w3.org/2000/svg\" height=\"24px\"viewBox=\"0 0 24 24\"\n",
              "     width=\"24px\">\n",
              "    <g>\n",
              "        <path d=\"M19 3H5c-1.1 0-2 .9-2 2v14c0 1.1.9 2 2 2h14c1.1 0 2-.9 2-2V5c0-1.1-.9-2-2-2zM9 17H7v-7h2v7zm4 0h-2V7h2v10zm4 0h-2v-4h2v4z\"/>\n",
              "    </g>\n",
              "</svg>\n",
              "  </button>\n",
              "\n",
              "<style>\n",
              "  .colab-df-quickchart {\n",
              "      --bg-color: #E8F0FE;\n",
              "      --fill-color: #1967D2;\n",
              "      --hover-bg-color: #E2EBFA;\n",
              "      --hover-fill-color: #174EA6;\n",
              "      --disabled-fill-color: #AAA;\n",
              "      --disabled-bg-color: #DDD;\n",
              "  }\n",
              "\n",
              "  [theme=dark] .colab-df-quickchart {\n",
              "      --bg-color: #3B4455;\n",
              "      --fill-color: #D2E3FC;\n",
              "      --hover-bg-color: #434B5C;\n",
              "      --hover-fill-color: #FFFFFF;\n",
              "      --disabled-bg-color: #3B4455;\n",
              "      --disabled-fill-color: #666;\n",
              "  }\n",
              "\n",
              "  .colab-df-quickchart {\n",
              "    background-color: var(--bg-color);\n",
              "    border: none;\n",
              "    border-radius: 50%;\n",
              "    cursor: pointer;\n",
              "    display: none;\n",
              "    fill: var(--fill-color);\n",
              "    height: 32px;\n",
              "    padding: 0;\n",
              "    width: 32px;\n",
              "  }\n",
              "\n",
              "  .colab-df-quickchart:hover {\n",
              "    background-color: var(--hover-bg-color);\n",
              "    box-shadow: 0 1px 2px rgba(60, 64, 67, 0.3), 0 1px 3px 1px rgba(60, 64, 67, 0.15);\n",
              "    fill: var(--button-hover-fill-color);\n",
              "  }\n",
              "\n",
              "  .colab-df-quickchart-complete:disabled,\n",
              "  .colab-df-quickchart-complete:disabled:hover {\n",
              "    background-color: var(--disabled-bg-color);\n",
              "    fill: var(--disabled-fill-color);\n",
              "    box-shadow: none;\n",
              "  }\n",
              "\n",
              "  .colab-df-spinner {\n",
              "    border: 2px solid var(--fill-color);\n",
              "    border-color: transparent;\n",
              "    border-bottom-color: var(--fill-color);\n",
              "    animation:\n",
              "      spin 1s steps(1) infinite;\n",
              "  }\n",
              "\n",
              "  @keyframes spin {\n",
              "    0% {\n",
              "      border-color: transparent;\n",
              "      border-bottom-color: var(--fill-color);\n",
              "      border-left-color: var(--fill-color);\n",
              "    }\n",
              "    20% {\n",
              "      border-color: transparent;\n",
              "      border-left-color: var(--fill-color);\n",
              "      border-top-color: var(--fill-color);\n",
              "    }\n",
              "    30% {\n",
              "      border-color: transparent;\n",
              "      border-left-color: var(--fill-color);\n",
              "      border-top-color: var(--fill-color);\n",
              "      border-right-color: var(--fill-color);\n",
              "    }\n",
              "    40% {\n",
              "      border-color: transparent;\n",
              "      border-right-color: var(--fill-color);\n",
              "      border-top-color: var(--fill-color);\n",
              "    }\n",
              "    60% {\n",
              "      border-color: transparent;\n",
              "      border-right-color: var(--fill-color);\n",
              "    }\n",
              "    80% {\n",
              "      border-color: transparent;\n",
              "      border-right-color: var(--fill-color);\n",
              "      border-bottom-color: var(--fill-color);\n",
              "    }\n",
              "    90% {\n",
              "      border-color: transparent;\n",
              "      border-bottom-color: var(--fill-color);\n",
              "    }\n",
              "  }\n",
              "</style>\n",
              "\n",
              "  <script>\n",
              "    async function quickchart(key) {\n",
              "      const quickchartButtonEl =\n",
              "        document.querySelector('#' + key + ' button');\n",
              "      quickchartButtonEl.disabled = true;  // To prevent multiple clicks.\n",
              "      quickchartButtonEl.classList.add('colab-df-spinner');\n",
              "      try {\n",
              "        const charts = await google.colab.kernel.invokeFunction(\n",
              "            'suggestCharts', [key], {});\n",
              "      } catch (error) {\n",
              "        console.error('Error during call to suggestCharts:', error);\n",
              "      }\n",
              "      quickchartButtonEl.classList.remove('colab-df-spinner');\n",
              "      quickchartButtonEl.classList.add('colab-df-quickchart-complete');\n",
              "    }\n",
              "    (() => {\n",
              "      let quickchartButtonEl =\n",
              "        document.querySelector('#df-8363ffab-87dc-439a-a41d-8dbabbb4c40e button');\n",
              "      quickchartButtonEl.style.display =\n",
              "        google.colab.kernel.accessAllowed ? 'block' : 'none';\n",
              "    })();\n",
              "  </script>\n",
              "</div>\n",
              "\n",
              "    </div>\n",
              "  </div>\n"
            ],
            "application/vnd.google.colaboratory.intrinsic+json": {
              "type": "dataframe",
              "summary": "{\n  \"name\": \"df\",\n  \"rows\": 8,\n  \"fields\": [\n    {\n      \"column\": \"id\",\n      \"properties\": {\n        \"dtype\": \"number\",\n        \"std\": 19912307.175192207,\n        \"min\": 102338.0,\n        \"max\": 57367417.0,\n        \"num_unique_values\": 8,\n        \"samples\": [\n          29194742.470861264,\n          29192109.0,\n          102338.0\n        ],\n        \"semantic_type\": \"\",\n        \"description\": \"\"\n      }\n    },\n    {\n      \"column\": \"lat\",\n      \"properties\": {\n        \"dtype\": \"number\",\n        \"std\": 36169.60690844681,\n        \"min\": 0.055863317648394015,\n        \"max\": 102338.0,\n        \"num_unique_values\": 8,\n        \"samples\": [\n          40.72809087030496,\n          40.7223,\n          102338.0\n        ],\n        \"semantic_type\": \"\",\n        \"description\": \"\"\n      }\n    },\n    {\n      \"column\": \"long\",\n      \"properties\": {\n        \"dtype\": \"number\",\n        \"std\": 36204.367622177946,\n        \"min\": -74.24984,\n        \"max\": 102338.0,\n        \"num_unique_values\": 8,\n        \"samples\": [\n          -73.94963119272047,\n          -73.95444,\n          102338.0\n        ],\n        \"semantic_type\": \"\",\n        \"description\": \"\"\n      }\n    },\n    {\n      \"column\": \"construction_year\",\n      \"properties\": {\n        \"dtype\": \"number\",\n        \"std\": 35578.78158134372,\n        \"min\": 5.765454867305793,\n        \"max\": 102338.0,\n        \"num_unique_values\": 8,\n        \"samples\": [\n          2012.4872872246867,\n          2012.0,\n          102338.0\n        ],\n        \"semantic_type\": \"\",\n        \"description\": \"\"\n      }\n    },\n    {\n      \"column\": \"price\",\n      \"properties\": {\n        \"dtype\": \"number\",\n        \"std\": 35977.46521790529,\n        \"min\": 50.0,\n        \"max\": 102338.0,\n        \"num_unique_values\": 8,\n        \"samples\": [\n          625.3245143003286,\n          625.0,\n          102338.0\n        ],\n        \"semantic_type\": \"\",\n        \"description\": \"\"\n      }\n    },\n    {\n      \"column\": \"service_fee\",\n      \"properties\": {\n        \"dtype\": \"number\",\n        \"std\": 36141.376074866304,\n        \"min\": 0.0,\n        \"max\": 102338.0,\n        \"num_unique_values\": 8,\n        \"samples\": [\n          124.70735210772148,\n          124.5,\n          102338.0\n        ],\n        \"semantic_type\": \"\",\n        \"description\": \"\"\n      }\n    },\n    {\n      \"column\": \"minimum_nights\",\n      \"properties\": {\n        \"dtype\": \"number\",\n        \"std\": 35948.60179113469,\n        \"min\": 0.0,\n        \"max\": 102338.0,\n        \"num_unique_values\": 8,\n        \"samples\": [\n          8.120111786433192,\n          3.0,\n          102338.0\n        ],\n        \"semantic_type\": \"\",\n        \"description\": \"\"\n      }\n    },\n    {\n      \"column\": \"number_of_reviews\",\n      \"properties\": {\n        \"dtype\": \"number\",\n        \"std\": 36126.14898222074,\n        \"min\": 0.0,\n        \"max\": 102338.0,\n        \"num_unique_values\": 8,\n        \"samples\": [\n          27.350309757861204,\n          7.0,\n          102338.0\n        ],\n        \"semantic_type\": \"\",\n        \"description\": \"\"\n      }\n    },\n    {\n      \"column\": \"review_rate_number\",\n      \"properties\": {\n        \"dtype\": \"number\",\n        \"std\": 36181.009260998166,\n        \"min\": 0.0,\n        \"max\": 102338.0,\n        \"num_unique_values\": 8,\n        \"samples\": [\n          3.2694795677070103,\n          3.0,\n          102338.0\n        ],\n        \"semantic_type\": \"\",\n        \"description\": \"\"\n      }\n    },\n    {\n      \"column\": \"availability_365\",\n      \"properties\": {\n        \"dtype\": \"number\",\n        \"std\": 36131.494023308725,\n        \"min\": 0.0,\n        \"max\": 102338.0,\n        \"num_unique_values\": 8,\n        \"samples\": [\n          139.65194746819364,\n          95.0,\n          102338.0\n        ],\n        \"semantic_type\": \"\",\n        \"description\": \"\"\n      }\n    }\n  ]\n}"
            }
          },
          "metadata": {},
          "execution_count": 254
        }
      ]
    },
    {
      "cell_type": "code",
      "source": [],
      "metadata": {
        "id": "45qBDuzSy19q"
      },
      "execution_count": null,
      "outputs": []
    },
    {
      "cell_type": "code",
      "source": [],
      "metadata": {
        "id": "O2M8Ja63y17G"
      },
      "execution_count": null,
      "outputs": []
    },
    {
      "cell_type": "code",
      "source": [],
      "metadata": {
        "id": "B6u27XqAy10-"
      },
      "execution_count": null,
      "outputs": []
    },
    {
      "cell_type": "markdown",
      "source": [
        "Fill missing values."
      ],
      "metadata": {
        "id": "4fG21Po8Wm1K"
      }
    },
    {
      "cell_type": "code",
      "source": [
        "# # Handle `price` column\n",
        "# df_cleaned['price'] = df_cleaned['price'].replace('[\\$,]', '', regex=True).astype(float)\n",
        "# df_cleaned['price'] = df_cleaned['price'].fillna(df_cleaned.groupby(['neighbourhood', 'room_type'])['price'].transform('mean'))\n",
        "# df_cleaned['price'] = df_cleaned['price'].fillna(df_cleaned['price'].mean())"
      ],
      "metadata": {
        "id": "FpaVOcnHWgHs"
      },
      "execution_count": null,
      "outputs": []
    },
    {
      "cell_type": "markdown",
      "source": [
        "For the columns bleow, fillna with 0 and ensure the type of int"
      ],
      "metadata": {
        "id": "aJz9g5oXY-St"
      }
    },
    {
      "cell_type": "code",
      "source": [
        "# int_columns = ['minimum_nights', 'number_of_reviews',\n",
        "#                'review_rate_number', 'availability_365']\n",
        "# df_cleaned[int_columns] = df_cleaned[int_columns].fillna(0).astype(int)"
      ],
      "metadata": {
        "id": "ke1exqsVUJWX"
      },
      "execution_count": null,
      "outputs": []
    },
    {
      "cell_type": "markdown",
      "source": [
        "Filling missing values with 'unknown' or 'unconfirmed' for some non-numerical columns"
      ],
      "metadata": {
        "id": "s7HsVX9LZC4n"
      }
    },
    {
      "cell_type": "code",
      "source": [
        "# df_cleaned['host_identity_verified'] = df_cleaned['host_identity_verified'].fillna('unconfirmed')\n",
        "# df_cleaned['cancellation_policy'] = df_cleaned['cancellation_policy'].fillna('unknown')\n",
        "# df_cleaned['instant_bookable'] = df_cleaned['instant_bookable'].fillna('unknown')"
      ],
      "metadata": {
        "id": "MmZqlrLcUJKs"
      },
      "execution_count": null,
      "outputs": []
    },
    {
      "cell_type": "markdown",
      "source": [
        "Drop the rows that with null values for columns `lat`, `long`, `neighbourhood_group`, and `neighbourhood`\n"
      ],
      "metadata": {
        "id": "Gn64yGlsZH_u"
      }
    },
    {
      "cell_type": "code",
      "source": [
        "# df_cleaned = df_cleaned.dropna(subset=['lat', 'long', 'neighbourhood_group', 'neighbourhood', 'construction_year'])"
      ],
      "metadata": {
        "id": "F_2IjeDVZH33"
      },
      "execution_count": null,
      "outputs": []
    },
    {
      "cell_type": "markdown",
      "source": [
        "Handle the `minimum_nights` and `availability_365` negative values."
      ],
      "metadata": {
        "id": "werJEnlqZNjB"
      }
    },
    {
      "cell_type": "code",
      "source": [
        "# # Handle the `minimum_nights` and `availability_365` columns\n",
        "# df_cleaned = df_cleaned[df_cleaned['minimum_nights'] >= 0].copy()  # Explicitly create a copy\n",
        "# df_cleaned.loc[:, 'availability_365'] = df_cleaned['availability_365'].apply(lambda x: 0 if x < 0 else x)"
      ],
      "metadata": {
        "id": "yvEEyMG3ZNNh"
      },
      "execution_count": null,
      "outputs": []
    },
    {
      "cell_type": "markdown",
      "source": [
        "Drop columns with high missing rates and unneeded, will not use for analysis"
      ],
      "metadata": {
        "id": "XUN1KdmKZY10"
      }
    },
    {
      "cell_type": "code",
      "source": [
        "# columns_to_drop = ['house_rules', 'license', 'name', 'host_id', 'country',\n",
        "#                    'country_code', 'host_name', 'calculated_host_listings_count',\n",
        "#                    'last_review', 'reviews_per_month']\n",
        "# df_cleaned = df_cleaned.drop(columns_to_drop, axis=1)"
      ],
      "metadata": {
        "id": "MZg6vd_zZYqW"
      },
      "execution_count": null,
      "outputs": []
    },
    {
      "cell_type": "markdown",
      "source": [
        "Drop duplicated records since the dataset is rental listings (541 duplicated rows)"
      ],
      "metadata": {
        "id": "VWrr_bfRZNDi"
      }
    },
    {
      "cell_type": "code",
      "source": [
        "df_cleaned = df_cleaned.drop_duplicates()"
      ],
      "metadata": {
        "id": "L3dqIHjqZ1_C"
      },
      "execution_count": null,
      "outputs": []
    },
    {
      "cell_type": "markdown",
      "source": [
        "Convert relevant columns to category type"
      ],
      "metadata": {
        "id": "FLXbPVnFZ6Cu"
      }
    },
    {
      "cell_type": "code",
      "source": [
        "# categorical_columns = ['host_identity_verified', 'neighbourhood_group', 'neighbourhood',\n",
        "#                        'instant_bookable', 'cancellation_policy', 'room_type']\n",
        "# df_cleaned[categorical_columns] = df_cleaned[categorical_columns].astype('category')\n",
        "# df_cleaned[categorical_columns].info() # check"
      ],
      "metadata": {
        "colab": {
          "base_uri": "https://localhost:8080/"
        },
        "id": "ox3EelbHZ8Mw",
        "outputId": "306f891c-af5d-4e95-ee2f-cd5fdcfc7325"
      },
      "execution_count": null,
      "outputs": [
        {
          "output_type": "stream",
          "name": "stderr",
          "text": [
            "<ipython-input-17-843c35e2f08b>:3: SettingWithCopyWarning: \n",
            "A value is trying to be set on a copy of a slice from a DataFrame.\n",
            "Try using .loc[row_indexer,col_indexer] = value instead\n",
            "\n",
            "See the caveats in the documentation: https://pandas.pydata.org/pandas-docs/stable/user_guide/indexing.html#returning-a-view-versus-a-copy\n",
            "  df_cleaned[categorical_columns] = df_cleaned[categorical_columns].astype('category')\n"
          ]
        }
      ]
    },
    {
      "cell_type": "markdown",
      "source": [
        "Convert relevant columns to int type"
      ],
      "metadata": {
        "id": "FXsXnVoAZ9J9"
      }
    },
    {
      "cell_type": "code",
      "source": [
        "# int_columns = ['construction_year', 'minimum_nights', 'number_of_reviews',\n",
        "#                'review_rate_number', 'availability_365']\n",
        "# df_cleaned[int_columns] = df_cleaned[int_columns].astype(int)\n",
        "# df_cleaned[int_columns].info() # check"
      ],
      "metadata": {
        "colab": {
          "base_uri": "https://localhost:8080/"
        },
        "id": "eCBWrOdKaBdb",
        "outputId": "7358503f-23cf-4ba5-cab4-e28bc01bb09d"
      },
      "execution_count": null,
      "outputs": [
        {
          "output_type": "stream",
          "name": "stderr",
          "text": [
            "<ipython-input-18-91fd540a2a76>:3: SettingWithCopyWarning: \n",
            "A value is trying to be set on a copy of a slice from a DataFrame.\n",
            "Try using .loc[row_indexer,col_indexer] = value instead\n",
            "\n",
            "See the caveats in the documentation: https://pandas.pydata.org/pandas-docs/stable/user_guide/indexing.html#returning-a-view-versus-a-copy\n",
            "  df_cleaned[int_columns] = df_cleaned[int_columns].astype(int)\n"
          ]
        }
      ]
    },
    {
      "cell_type": "markdown",
      "source": [
        "**Dealing with inconsitant data**:<br/>\n",
        "\n",
        "\n",
        "*   `neighbourhood_group`: Case differences like 'manhatan' and 'Manhattan'.\n",
        "*   `availability_365`: By defination it is the availability of the listing x days in the future as determined by the calendar. So it should not be over 365.\n",
        "\n"
      ],
      "metadata": {
        "id": "wVLJr4idaKIG"
      }
    },
    {
      "cell_type": "code",
      "source": [
        "# # Handle the inconsistant values and style in the column\n",
        "# df_cleaned['neighbourhood_group'] = df_cleaned['neighbourhood_group'].replace({'manhatan': 'Manhattan'}).str.lower().astype('category')\n",
        "# # Find inconsistant values in `neighbourhood` column\n",
        "# df_cleaned['neighbourhood'] = df_cleaned['neighbourhood'].str.lower()\n",
        "# # `availability_365` should not have value over 365\n",
        "# df_cleaned['availability_365'] = df_cleaned['availability_365'].apply(lambda x: min(x, 365))"
      ],
      "metadata": {
        "colab": {
          "base_uri": "https://localhost:8080/"
        },
        "id": "xRaiRkv0aKaV",
        "outputId": "f8cd3862-e7eb-4045-ecb3-bd721df3092d"
      },
      "execution_count": null,
      "outputs": [
        {
          "output_type": "stream",
          "name": "stderr",
          "text": [
            "<ipython-input-19-a197566f6af0>:2: FutureWarning: The behavior of Series.replace (and DataFrame.replace) with CategoricalDtype is deprecated. In a future version, replace will only be used for cases that preserve the categories. To change the categories, use ser.cat.rename_categories instead.\n",
            "  df_cleaned['neighbourhood_group'] = df_cleaned['neighbourhood_group'].replace({'manhatan': 'Manhattan'}).str.lower().astype('category')\n"
          ]
        }
      ]
    }
  ]
}